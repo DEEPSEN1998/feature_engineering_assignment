{
  "nbformat": 4,
  "nbformat_minor": 0,
  "metadata": {
    "colab": {
      "provenance": []
    },
    "kernelspec": {
      "name": "python3",
      "display_name": "Python 3"
    },
    "language_info": {
      "name": "python"
    }
  },
  "cells": [
    {
      "cell_type": "code",
      "execution_count": null,
      "metadata": {
        "id": "utOgMvQbfO_W"
      },
      "outputs": [],
      "source": []
    },
    {
      "cell_type": "markdown",
      "source": [
        "**1. What is a parameter?**\n",
        "\n",
        "- A parameter is a value that the model learns from the training data, such as weights in a linear regression model.\n",
        "\n",
        "- 📌 Example: In y = mx + c, m and c are parameters learned during training."
      ],
      "metadata": {
        "id": "F9lmQpzDgF2g"
      }
    },
    {
      "cell_type": "markdown",
      "source": [
        "**2. What is correlation?**\n",
        "\n",
        "- Correlation measures the relationship between two variables, showing how one changes when the other changes.\n",
        "\n",
        "- 📌 Example: If study time increases and exam scores also increase, they have a positive correlation."
      ],
      "metadata": {
        "id": "of6omGa5gF50"
      }
    },
    {
      "cell_type": "markdown",
      "source": [
        "**3. What does negative correlation mean?**\n",
        "\n",
        "- A negative correlation means that as one variable increases, the other decreases.\n",
        "\n",
        "- 📌 Example: The more you exercise, the lower your body fat percentage."
      ],
      "metadata": {
        "id": "iuZqaYk6gF9K"
      }
    },
    {
      "cell_type": "markdown",
      "source": [
        "**4. Define Machine Learning. What are the main components in Machine Learning?**\n",
        "\n",
        "- Machine Learning is the process where computers learn patterns from data to make predictions.\n",
        "\n",
        "- ✅ Main components:\n",
        "\n",
        "    - Data – The input dataset.\n",
        "    - Model – The mathematical representation.\n",
        "    - Loss function – Measures model errors.\n",
        "    - Optimizer – Adjusts parameters to reduce errors.\n",
        "    - Training & Testing – Model learning and evaluation."
      ],
      "metadata": {
        "id": "B_IRleoFgGAd"
      }
    },
    {
      "cell_type": "markdown",
      "source": [
        "**5. How does loss value help in determining whether the model is good or not?**\n",
        "\n",
        "- The loss value tells how much the model’s predictions differ from actual values. Lower loss = better model.\n",
        "\n",
        "- 📌 Example: If Loss = 0.2, it is better than Loss = 5.0."
      ],
      "metadata": {
        "id": "nzsCN5sJgGDV"
      }
    },
    {
      "cell_type": "markdown",
      "source": [
        "**6. What are continuous and categorical variables?**\n",
        "\n",
        "   - Continuous: Numeric values with infinite possibilities (e.g., age, height).\n",
        "   - Categorical: Fixed categories (e.g., gender: Male/Female).\n",
        "\n",
        "- 📌 Example: Income (Continuous), Car Brand (Categorical)"
      ],
      "metadata": {
        "id": "3PYNhhLxgGEH"
      }
    },
    {
      "cell_type": "markdown",
      "source": [],
      "metadata": {
        "id": "yb3TkjGBgGGq"
      }
    },
    {
      "cell_type": "markdown",
      "source": [
        "**6.How do we handle categorical variables in Machine Learning?**\n",
        "\n",
        "- ✅ Common techniques:\n",
        "\n",
        "   - Label Encoding – Assigns numbers to categories.\n",
        "   - One-Hot Encoding – Creates binary columns."
      ],
      "metadata": {
        "id": "oCsWugXJgGKN"
      }
    },
    {
      "cell_type": "code",
      "source": [
        "from sklearn.preprocessing import OneHotEncoder\n",
        "encoder = OneHotEncoder()\n",
        "encoded = encoder.fit_transform([['Red'], ['Blue'], ['Green']])\n",
        "encoded"
      ],
      "metadata": {
        "colab": {
          "base_uri": "https://localhost:8080/"
        },
        "id": "jGb_bcFBhip2",
        "outputId": "c776b34d-0f4a-40ff-cbc3-44db17f3a7ab"
      },
      "execution_count": 2,
      "outputs": [
        {
          "output_type": "execute_result",
          "data": {
            "text/plain": [
              "<3x3 sparse matrix of type '<class 'numpy.float64'>'\n",
              "\twith 3 stored elements in Compressed Sparse Row format>"
            ]
          },
          "metadata": {},
          "execution_count": 2
        }
      ]
    },
    {
      "cell_type": "markdown",
      "source": [
        "**7.What do you mean by training and testing a dataset?**\n",
        "\n",
        "  - Training set: Used to train the model.\n",
        "  - Testing set: Used to evaluate performance."
      ],
      "metadata": {
        "id": "-NtMvqXqgGNi"
      }
    },
    {
      "cell_type": "markdown",
      "source": [
        "**9. What is sklearn.preprocessing?**\n",
        "\n",
        "- A module in Scikit-learn for scaling, encoding, and transforming data."
      ],
      "metadata": {
        "id": "H2ZzzVDYgGQq"
      }
    },
    {
      "cell_type": "markdown",
      "source": [
        "**10. What is a Test set?**\n",
        "\n",
        "- A dataset used to evaluate the model after training."
      ],
      "metadata": {
        "id": "bntiunLHgGYX"
      }
    },
    {
      "cell_type": "markdown",
      "source": [
        "**11. How do we split data for model fitting (training and testing) in Python?**\n"
      ],
      "metadata": {
        "id": "WOjZB_cMgGcb"
      }
    },
    {
      "cell_type": "code",
      "source": [
        "from sklearn.model_selection import train_test_split\n",
        "X_train, X_test, y_train, y_test = train_test_split(X, y, test_size=0.2, random_state=42)\n"
      ],
      "metadata": {
        "colab": {
          "base_uri": "https://localhost:8080/",
          "height": 159
        },
        "id": "Za7DRajdiWXB",
        "outputId": "6e105b03-a736-4440-a1dc-45fce2361c89"
      },
      "execution_count": 3,
      "outputs": [
        {
          "output_type": "error",
          "ename": "NameError",
          "evalue": "name 'X' is not defined",
          "traceback": [
            "\u001b[0;31m---------------------------------------------------------------------------\u001b[0m",
            "\u001b[0;31mNameError\u001b[0m                                 Traceback (most recent call last)",
            "\u001b[0;32m<ipython-input-3-c6518bc36238>\u001b[0m in \u001b[0;36m<cell line: 0>\u001b[0;34m()\u001b[0m\n\u001b[1;32m      1\u001b[0m \u001b[0;32mfrom\u001b[0m \u001b[0msklearn\u001b[0m\u001b[0;34m.\u001b[0m\u001b[0mmodel_selection\u001b[0m \u001b[0;32mimport\u001b[0m \u001b[0mtrain_test_split\u001b[0m\u001b[0;34m\u001b[0m\u001b[0;34m\u001b[0m\u001b[0m\n\u001b[0;32m----> 2\u001b[0;31m \u001b[0mX_train\u001b[0m\u001b[0;34m,\u001b[0m \u001b[0mX_test\u001b[0m\u001b[0;34m,\u001b[0m \u001b[0my_train\u001b[0m\u001b[0;34m,\u001b[0m \u001b[0my_test\u001b[0m \u001b[0;34m=\u001b[0m \u001b[0mtrain_test_split\u001b[0m\u001b[0;34m(\u001b[0m\u001b[0mX\u001b[0m\u001b[0;34m,\u001b[0m \u001b[0my\u001b[0m\u001b[0;34m,\u001b[0m \u001b[0mtest_size\u001b[0m\u001b[0;34m=\u001b[0m\u001b[0;36m0.2\u001b[0m\u001b[0;34m,\u001b[0m \u001b[0mrandom_state\u001b[0m\u001b[0;34m=\u001b[0m\u001b[0;36m42\u001b[0m\u001b[0;34m)\u001b[0m\u001b[0;34m\u001b[0m\u001b[0;34m\u001b[0m\u001b[0m\n\u001b[0m",
            "\u001b[0;31mNameError\u001b[0m: name 'X' is not defined"
          ]
        }
      ]
    },
    {
      "cell_type": "markdown",
      "source": [
        "**12. How do you approach a Machine Learning problem?**\n",
        "\n",
        " - Define the problem.\n",
        " - Collect and clean data.\n",
        " - Perform EDA (Exploratory Data Analysis).\n",
        " - Choose a model.\n",
        " - Train and optimize the model.\n",
        " - Evaluate and fine-tune."
      ],
      "metadata": {
        "id": "tIdO6kq3icZN"
      }
    },
    {
      "cell_type": "markdown",
      "source": [
        "**13. Why do we have to perform EDA before fitting a model to the data?**\n",
        "\n",
        "- EDA helps in:\n",
        " - ✅ Understanding data distribution.\n",
        " - ✅ Identifying missing values.\n",
        " - ✅ Finding patterns and correlations.\n",
        " - ✅ Finding and removing outliers.\n",
        "\n"
      ],
      "metadata": {
        "id": "WtDrYPYricVz"
      }
    },
    {
      "cell_type": "markdown",
      "source": [
        "**14. How can you find correlation between variables in Python?**"
      ],
      "metadata": {
        "id": "VMUV5_GeicSY"
      }
    },
    {
      "cell_type": "code",
      "source": [
        "import pandas as pd\n",
        "df = pd.DataFrame({'A': [1, 2, 3], 'B': [4, 5, 6]})\n",
        "print(df.corr())  # Finds correlation between A and B\n"
      ],
      "metadata": {
        "colab": {
          "base_uri": "https://localhost:8080/"
        },
        "id": "pv9cbe-ljIfn",
        "outputId": "dfe02033-3e8b-4650-a818-12db775184f8"
      },
      "execution_count": 4,
      "outputs": [
        {
          "output_type": "stream",
          "name": "stdout",
          "text": [
            "     A    B\n",
            "A  1.0  1.0\n",
            "B  1.0  1.0\n"
          ]
        }
      ]
    },
    {
      "cell_type": "markdown",
      "source": [
        "**15. What is causation? Explain difference between correlation and causation with an example.**\n",
        "\n",
        "- Correlation: Two things change together but may not be linked.\n",
        "- Causation: One directly affects the other.\n",
        "\n",
        "   - 📌 Example:\n",
        "\n",
        "     - Correlation: Ice cream sales and drowning cases increase in summer.\n",
        "     - Causation: Eating more calories causes weight gain."
      ],
      "metadata": {
        "id": "LZkFBnb-icPA"
      }
    },
    {
      "cell_type": "markdown",
      "source": [
        "**16. What is an Optimizer? What are different types of optimizers?**\n",
        "\n",
        "= An optimizer updates the model’s parameters to minimize loss.\n",
        "\n",
        "- ✅ Types:\n",
        "\n",
        "    - Gradient Descent – Adjusts weights based on gradients.\n",
        "    - Adam Optimizer – A faster, adaptive optimizer."
      ],
      "metadata": {
        "id": "k-v2E10BicL1"
      }
    },
    {
      "cell_type": "markdown",
      "source": [
        "**17. What is sklearn.linear_model?**\n",
        "\n",
        "- A Scikit-learn module for linear models like Linear Regression.\n",
        "\n",
        "- 📌 Example:\n",
        "   - from sklearn.linear_model import LinearRegression\n",
        "   -  model = LinearRegression()"
      ],
      "metadata": {
        "id": "xiIIScK5icIf"
      }
    },
    {
      "cell_type": "markdown",
      "source": [
        "**18. What does model.fit() do? What arguments must be given?**\n",
        "\n",
        "- Trains the model on the dataset."
      ],
      "metadata": {
        "id": "F-Rfm56PicFL"
      }
    },
    {
      "cell_type": "code",
      "source": [
        "model.fit(X_train, y_train)  # Arguments: Input features, target values\n"
      ],
      "metadata": {
        "colab": {
          "base_uri": "https://localhost:8080/",
          "height": 141
        },
        "id": "VVp3LQxSkBa8",
        "outputId": "993f3819-ced3-482d-fe0b-08f0b041b6d3"
      },
      "execution_count": 5,
      "outputs": [
        {
          "output_type": "error",
          "ename": "NameError",
          "evalue": "name 'model' is not defined",
          "traceback": [
            "\u001b[0;31m---------------------------------------------------------------------------\u001b[0m",
            "\u001b[0;31mNameError\u001b[0m                                 Traceback (most recent call last)",
            "\u001b[0;32m<ipython-input-5-3e0f6e2fe9ed>\u001b[0m in \u001b[0;36m<cell line: 0>\u001b[0;34m()\u001b[0m\n\u001b[0;32m----> 1\u001b[0;31m \u001b[0mmodel\u001b[0m\u001b[0;34m.\u001b[0m\u001b[0mfit\u001b[0m\u001b[0;34m(\u001b[0m\u001b[0mX_train\u001b[0m\u001b[0;34m,\u001b[0m \u001b[0my_train\u001b[0m\u001b[0;34m)\u001b[0m  \u001b[0;31m# Arguments: Input features, target values\u001b[0m\u001b[0;34m\u001b[0m\u001b[0;34m\u001b[0m\u001b[0m\n\u001b[0m",
            "\u001b[0;31mNameError\u001b[0m: name 'model' is not defined"
          ]
        }
      ]
    },
    {
      "cell_type": "markdown",
      "source": [
        "**19. What does model.predict() do? What arguments must be given?**\n",
        "\n",
        "- Makes predictions using the trained model.\n",
        "   - predictions = model.predict(X_test)  "
      ],
      "metadata": {
        "id": "gUvSbAnekFrW"
      }
    },
    {
      "cell_type": "markdown",
      "source": [
        "**20. What is feature scaling? How does it help in Machine Learning?**\n",
        "\n",
        "- Feature scaling normalizes data so that different features contribute equally.\n",
        "\n",
        "- 📌 Example: Without scaling, Age (30) and Salary (50,000) have very different scales."
      ],
      "metadata": {
        "id": "ShsWkdqZkFoQ"
      }
    },
    {
      "cell_type": "markdown",
      "source": [
        "**22. Explain data encoding.**\n",
        "\n",
        "- Data encoding converts categorical values into numerical format.\n",
        "\n",
        "  - 📌 Example:\n"
      ],
      "metadata": {
        "id": "qVitbsGTkFlL"
      }
    },
    {
      "cell_type": "code",
      "source": [
        "#Label Encoding\n",
        "from sklearn.preprocessing import LabelEncoder\n",
        "encoder = LabelEncoder()\n",
        "encoded = encoder.fit_transform(['Yes', 'No', 'Yes'])\n"
      ],
      "metadata": {
        "id": "9t5Rp-CvkhjG"
      },
      "execution_count": null,
      "outputs": []
    },
    {
      "cell_type": "code",
      "source": [
        "#One-Hot Encoding\n",
        "from sklearn.preprocessing import OneHotEncoder\n",
        "encoder = OneHotEncoder()\n",
        "encoded = encoder.fit_transform([['Red'], ['Blue'], ['Green']])\n"
      ],
      "metadata": {
        "id": "XAxuO2q3ki-z"
      },
      "execution_count": null,
      "outputs": []
    },
    {
      "cell_type": "code",
      "source": [],
      "metadata": {
        "id": "VdqWJZ49iXzh"
      },
      "execution_count": null,
      "outputs": []
    }
  ]
}